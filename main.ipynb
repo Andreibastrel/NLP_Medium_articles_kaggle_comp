{
 "cells": [
  {
   "cell_type": "markdown",
   "metadata": {},
   "source": [
    "## <center>Kaggle competition \"How good is your Medium article?\"\n",
    "    \n",
    "\n",
    "\n",
    "[Competition](https://www.kaggle.com/c/how-good-is-your-medium-article)"
   ]
  },
  {
   "cell_type": "code",
   "execution_count": 2,
   "metadata": {},
   "outputs": [
    {
     "name": "stderr",
     "output_type": "stream",
     "text": [
      "C:\\Users\\Aqice\\Anaconda3\\lib\\site-packages\\gensim\\utils.py:865: UserWarning: detected Windows; aliasing chunkize to chunkize_serial\n",
      "  warnings.warn(\"detected Windows; aliasing chunkize to chunkize_serial\")\n",
      "C:\\Users\\Aqice\\Anaconda3\\lib\\site-packages\\h5py\\__init__.py:34: FutureWarning: Conversion of the second argument of issubdtype from `float` to `np.floating` is deprecated. In future, it will be treated as `np.float64 == np.dtype(float).type`.\n",
      "  from ._conv import register_converters as _register_converters\n",
      "Using TensorFlow backend.\n"
     ]
    }
   ],
   "source": [
    "import os\n",
    "import json\n",
    "from tqdm import tqdm_notebook\n",
    "import numpy as np\n",
    "import pandas as pd\n",
    "from sklearn.feature_extraction.text import TfidfVectorizer\n",
    "from scipy import sparse\n",
    "from sklearn.metrics import mean_absolute_error\n",
    "from scipy.sparse import csr_matrix, hstack\n",
    "from sklearn.linear_model import Ridge\n",
    "from sklearn.metrics import mean_absolute_error as MAE\n",
    "import gensim\n",
    "from gensim.matutils  import Sparse2Corpus\n",
    "from gensim.corpora import Dictionary\n",
    "from gensim.models import LdaModel\n",
    "import gc\n",
    "import nltk\n",
    "import warnings"
   ]
  },
  {
   "cell_type": "code",
   "execution_count": 20,
   "metadata": {},
   "outputs": [],
   "source": [
    "PATH_TO_DATA = 'data'"
   ]
  },
  {
   "cell_type": "code",
   "execution_count": 2,
   "metadata": {},
   "outputs": [],
   "source": [
    "from html.parser import HTMLParser\n",
    "\n",
    "\n",
    "class MLStripper(HTMLParser):\n",
    "    def __init__(self):\n",
    "        self.reset()\n",
    "        self.strict = False\n",
    "        self.convert_charrefs= True\n",
    "        self.fed = []\n",
    "    def handle_data(self, d):\n",
    "        self.fed.append(d)\n",
    "    def get_data(self):\n",
    "        return ''.join(self.fed)\n",
    "\n",
    "def strip_tags(html):\n",
    "    s = MLStripper()\n",
    "    s.feed(html)\n",
    "    return s.get_data()"
   ]
  },
  {
   "cell_type": "markdown",
   "metadata": {},
   "source": [
    "Supplementary function to read a JSON line without crashing on escape characters."
   ]
  },
  {
   "cell_type": "code",
   "execution_count": 3,
   "metadata": {},
   "outputs": [],
   "source": [
    "def read_json_line(line=None):\n",
    "    result = None\n",
    "    try:        \n",
    "        result = json.loads(line)\n",
    "    except Exception as e:      \n",
    "        # Find the offending character index:\n",
    "        idx_to_replace = int(str(e).split(' ')[-1].replace(')',''))      \n",
    "        # Remove the offending character:\n",
    "        new_line = list(line)\n",
    "        new_line[idx_to_replace] = ' '\n",
    "        new_line = ''.join(new_line)     \n",
    "        return read_json_line(line=new_line)\n",
    "    return result"
   ]
  },
  {
   "cell_type": "code",
   "execution_count": 5,
   "metadata": {},
   "outputs": [],
   "source": [
    "def extract_features_and_write(path_to_data,\n",
    "                               inp_filename, is_train=True):\n",
    "    \n",
    "    features = ['content', 'published', 'title', 'author']\n",
    "    prefix = 'train' if is_train else 'test'\n",
    "    feature_files = [open(os.path.join(path_to_data,\n",
    "                                       '{}_{}.txt'.format(prefix, feat)),\n",
    "                          'w', encoding='utf-8')\n",
    "                     for feat in features]\n",
    "    df = pd.DataFrame(columns=features)\n",
    "    with open(os.path.join(path_to_data, inp_filename), \n",
    "              encoding='utf-8') as inp_json_file:\n",
    "        for line in tqdm_notebook(inp_json_file):\n",
    "            json_data = read_json_line(line)\n",
    "            content = strip_tags(json_data['content'].replace('\\n', ' ').replace('\\r', ' '))\n",
    "            published = json_data['published']['$date']\n",
    "            title = json_data['meta_tags']['title'].split('\\u2013')[0].strip()\n",
    "            author = json_data['meta_tags']['author'].strip()\n",
    "            df = df.append({'content': content, 'published': published, 'title': title, 'author': author}, ignore_index=True)\n",
    "    df.to_csv('{}_data.csv'.format(prefix), index=False)"
   ]
  },
  {
   "cell_type": "code",
   "execution_count": 6,
   "metadata": {},
   "outputs": [
    {
     "data": {
      "application/vnd.jupyter.widget-view+json": {
       "model_id": "2561a45e072340c680341b7ab9b70c37",
       "version_major": 2,
       "version_minor": 0
      },
      "text/plain": [
       "HBox(children=(IntProgress(value=1, bar_style='info', max=1), HTML(value='')))"
      ]
     },
     "metadata": {},
     "output_type": "display_data"
    },
    {
     "name": "stdout",
     "output_type": "stream",
     "text": [
      "\n"
     ]
    }
   ],
   "source": [
    "extract_features_and_write(PATH_TO_DATA, 'train.json', is_train=True)"
   ]
  },
  {
   "cell_type": "code",
   "execution_count": 7,
   "metadata": {},
   "outputs": [
    {
     "data": {
      "application/vnd.jupyter.widget-view+json": {
       "model_id": "fdbeb745f8c8441996b732fdb467c4c1",
       "version_major": 2,
       "version_minor": 0
      },
      "text/plain": [
       "HBox(children=(IntProgress(value=1, bar_style='info', max=1), HTML(value='')))"
      ]
     },
     "metadata": {},
     "output_type": "display_data"
    },
    {
     "name": "stdout",
     "output_type": "stream",
     "text": [
      "\n"
     ]
    }
   ],
   "source": [
    "extract_features_and_write(PATH_TO_DATA, 'test.json', is_train=False)"
   ]
  },
  {
   "cell_type": "markdown",
   "metadata": {},
   "source": [
    "# Main part"
   ]
  },
  {
   "cell_type": "code",
   "execution_count": 51,
   "metadata": {},
   "outputs": [],
   "source": [
    "train = pd.read_csv('train_data.csv')\n",
    "test = pd.read_csv('test_data.csv')\n",
    "train_size = len(train)"
   ]
  },
  {
   "cell_type": "code",
   "execution_count": 52,
   "metadata": {},
   "outputs": [],
   "source": [
    "data = pd.concat([train, test], axis=0)"
   ]
  },
  {
   "cell_type": "code",
   "execution_count": 53,
   "metadata": {},
   "outputs": [
    {
     "name": "stdout",
     "output_type": "stream",
     "text": [
      "Wall time: 3.84 s\n"
     ]
    }
   ],
   "source": [
    "%%time\n",
    "data_features = pd.DataFrame(pd.to_datetime(data.published))\n",
    "data_features['author'] = data.author\n",
    "data_features['year'] = data_features['published'].apply(lambda i: i.year)\n",
    "data_features['hour'] = data_features['published'].apply(lambda i: i.hour)\n",
    "data_features['day'] = data_features['published'].apply(lambda i: i.day)\n",
    "data_features['weekday'] = data_features['published'].apply(lambda i: i.weekday())\n",
    "data_features['month'] = data_features['published'].apply(lambda i: i.month)\n",
    "data_features['morning'] = data_features['hour'].apply(lambda i: 1 if 6<i<13 else 0)\n",
    "data_features['day'] = data_features['hour'].apply(lambda i: 1 if 12<i<18 else 0)\n",
    "data_features['evening'] = data_features['hour'].apply(lambda i: 1 if 17<i<24 else 0)\n",
    "data_features['night'] = data_features['hour'].apply(lambda i: 1 if -1<i<7 else 0)\n",
    "data_features = pd.concat([data_features, pd.get_dummies(data_features, columns=[\n",
    "   'morning', 'day', 'evening', 'night', 'weekday', 'year'\n",
    "])], axis=1)\n",
    "data_features.drop(['year', 'hour', 'day', 'month', 'morning', 'day', 'evening', 'night', 'author', 'published', 'weekday'],\n",
    "                   axis=1, inplace=True)"
   ]
  },
  {
   "cell_type": "code",
   "execution_count": 54,
   "metadata": {},
   "outputs": [
    {
     "data": {
      "text/html": [
       "<div>\n",
       "<table border=\"1\" class=\"dataframe\">\n",
       "  <thead>\n",
       "    <tr style=\"text-align: right;\">\n",
       "      <th></th>\n",
       "      <th>morning_0</th>\n",
       "      <th>morning_1</th>\n",
       "      <th>day_0</th>\n",
       "      <th>day_1</th>\n",
       "      <th>evening_0</th>\n",
       "      <th>evening_1</th>\n",
       "      <th>night_0</th>\n",
       "      <th>night_1</th>\n",
       "      <th>weekday_0</th>\n",
       "      <th>weekday_1</th>\n",
       "      <th>...</th>\n",
       "      <th>year_2009</th>\n",
       "      <th>year_2010</th>\n",
       "      <th>year_2011</th>\n",
       "      <th>year_2012</th>\n",
       "      <th>year_2013</th>\n",
       "      <th>year_2014</th>\n",
       "      <th>year_2015</th>\n",
       "      <th>year_2016</th>\n",
       "      <th>year_2017</th>\n",
       "      <th>year_2018</th>\n",
       "    </tr>\n",
       "  </thead>\n",
       "  <tbody>\n",
       "    <tr>\n",
       "      <th>0</th>\n",
       "      <td>1</td>\n",
       "      <td>0</td>\n",
       "      <td>1</td>\n",
       "      <td>0</td>\n",
       "      <td>0</td>\n",
       "      <td>1</td>\n",
       "      <td>1</td>\n",
       "      <td>0</td>\n",
       "      <td>1</td>\n",
       "      <td>0</td>\n",
       "      <td>...</td>\n",
       "      <td>0</td>\n",
       "      <td>0</td>\n",
       "      <td>0</td>\n",
       "      <td>1</td>\n",
       "      <td>0</td>\n",
       "      <td>0</td>\n",
       "      <td>0</td>\n",
       "      <td>0</td>\n",
       "      <td>0</td>\n",
       "      <td>0</td>\n",
       "    </tr>\n",
       "    <tr>\n",
       "      <th>1</th>\n",
       "      <td>0</td>\n",
       "      <td>1</td>\n",
       "      <td>1</td>\n",
       "      <td>0</td>\n",
       "      <td>1</td>\n",
       "      <td>0</td>\n",
       "      <td>1</td>\n",
       "      <td>0</td>\n",
       "      <td>1</td>\n",
       "      <td>0</td>\n",
       "      <td>...</td>\n",
       "      <td>0</td>\n",
       "      <td>0</td>\n",
       "      <td>0</td>\n",
       "      <td>0</td>\n",
       "      <td>0</td>\n",
       "      <td>0</td>\n",
       "      <td>1</td>\n",
       "      <td>0</td>\n",
       "      <td>0</td>\n",
       "      <td>0</td>\n",
       "    </tr>\n",
       "    <tr>\n",
       "      <th>2</th>\n",
       "      <td>1</td>\n",
       "      <td>0</td>\n",
       "      <td>0</td>\n",
       "      <td>1</td>\n",
       "      <td>1</td>\n",
       "      <td>0</td>\n",
       "      <td>1</td>\n",
       "      <td>0</td>\n",
       "      <td>0</td>\n",
       "      <td>0</td>\n",
       "      <td>...</td>\n",
       "      <td>0</td>\n",
       "      <td>0</td>\n",
       "      <td>0</td>\n",
       "      <td>0</td>\n",
       "      <td>0</td>\n",
       "      <td>0</td>\n",
       "      <td>0</td>\n",
       "      <td>0</td>\n",
       "      <td>1</td>\n",
       "      <td>0</td>\n",
       "    </tr>\n",
       "    <tr>\n",
       "      <th>3</th>\n",
       "      <td>0</td>\n",
       "      <td>1</td>\n",
       "      <td>1</td>\n",
       "      <td>0</td>\n",
       "      <td>1</td>\n",
       "      <td>0</td>\n",
       "      <td>1</td>\n",
       "      <td>0</td>\n",
       "      <td>0</td>\n",
       "      <td>0</td>\n",
       "      <td>...</td>\n",
       "      <td>0</td>\n",
       "      <td>0</td>\n",
       "      <td>0</td>\n",
       "      <td>0</td>\n",
       "      <td>0</td>\n",
       "      <td>0</td>\n",
       "      <td>0</td>\n",
       "      <td>0</td>\n",
       "      <td>1</td>\n",
       "      <td>0</td>\n",
       "    </tr>\n",
       "    <tr>\n",
       "      <th>4</th>\n",
       "      <td>1</td>\n",
       "      <td>0</td>\n",
       "      <td>0</td>\n",
       "      <td>1</td>\n",
       "      <td>1</td>\n",
       "      <td>0</td>\n",
       "      <td>1</td>\n",
       "      <td>0</td>\n",
       "      <td>0</td>\n",
       "      <td>0</td>\n",
       "      <td>...</td>\n",
       "      <td>0</td>\n",
       "      <td>0</td>\n",
       "      <td>0</td>\n",
       "      <td>0</td>\n",
       "      <td>0</td>\n",
       "      <td>0</td>\n",
       "      <td>0</td>\n",
       "      <td>0</td>\n",
       "      <td>1</td>\n",
       "      <td>0</td>\n",
       "    </tr>\n",
       "  </tbody>\n",
       "</table>\n",
       "<p>5 rows × 33 columns</p>\n",
       "</div>"
      ],
      "text/plain": [
       "   morning_0  morning_1  day_0  day_1  evening_0  evening_1  night_0  night_1  \\\n",
       "0          1          0      1      0          0          1        1        0   \n",
       "1          0          1      1      0          1          0        1        0   \n",
       "2          1          0      0      1          1          0        1        0   \n",
       "3          0          1      1      0          1          0        1        0   \n",
       "4          1          0      0      1          1          0        1        0   \n",
       "\n",
       "   weekday_0  weekday_1    ...      year_2009  year_2010  year_2011  \\\n",
       "0          1          0    ...              0          0          0   \n",
       "1          1          0    ...              0          0          0   \n",
       "2          0          0    ...              0          0          0   \n",
       "3          0          0    ...              0          0          0   \n",
       "4          0          0    ...              0          0          0   \n",
       "\n",
       "   year_2012  year_2013  year_2014  year_2015  year_2016  year_2017  year_2018  \n",
       "0          1          0          0          0          0          0          0  \n",
       "1          0          0          0          1          0          0          0  \n",
       "2          0          0          0          0          0          1          0  \n",
       "3          0          0          0          0          0          1          0  \n",
       "4          0          0          0          0          0          1          0  \n",
       "\n",
       "[5 rows x 33 columns]"
      ]
     },
     "execution_count": 54,
     "metadata": {},
     "output_type": "execute_result"
    }
   ],
   "source": [
    "data_features.head()"
   ]
  },
  {
   "cell_type": "code",
   "execution_count": 55,
   "metadata": {},
   "outputs": [],
   "source": [
    "X_train_feats = data_features.iloc[:train_size, :]\n",
    "X_test_feats = data_features.iloc[train_size:, :]"
   ]
  },
  {
   "cell_type": "markdown",
   "metadata": {},
   "source": [
    "### Lemmatization"
   ]
  },
  {
   "cell_type": "code",
   "execution_count": 8,
   "metadata": {},
   "outputs": [],
   "source": [
    "from nltk.stem.porter import PorterStemmer\n",
    "porter_stemmer = PorterStemmer()\n",
    "\n",
    "train_cont_lem = [porter_stemmer.stem(i) for i in train.content.values]\n",
    "test_cont_lem = [porter_stemmer.stem(i) for i in test.content.values]"
   ]
  },
  {
   "cell_type": "markdown",
   "metadata": {},
   "source": [
    "### Tf-Idf in action"
   ]
  },
  {
   "cell_type": "code",
   "execution_count": 56,
   "metadata": {},
   "outputs": [],
   "source": [
    "vectorizer = TfidfVectorizer(max_features=50000, min_df = 0.1, max_df = 0.8)"
   ]
  },
  {
   "cell_type": "code",
   "execution_count": 57,
   "metadata": {},
   "outputs": [
    {
     "name": "stdout",
     "output_type": "stream",
     "text": [
      "(62313, 913) (34645, 913)\n",
      "(62313, 4) (34645, 4)\n",
      "Wall time: 6min 11s\n"
     ]
    }
   ],
   "source": [
    "%%time\n",
    "X_train_title = vectorizer.fit_transform(train.title)\n",
    "X_test_title = vectorizer.transform(test.title)\n",
    "\n",
    "X_train_content = vectorizer.fit_transform(train_cont_lem)\n",
    "X_test_content = vectorizer.transform(test_cont_lem)\n",
    "\n",
    "print(X_train_content.shape, X_test_content.shape)\n",
    "print(X_train_title.shape, X_test_title.shape)\n",
    "\n"
   ]
  },
  {
   "cell_type": "code",
   "execution_count": 58,
   "metadata": {},
   "outputs": [
    {
     "data": {
      "text/plain": [
       "27"
      ]
     },
     "execution_count": 58,
     "metadata": {},
     "output_type": "execute_result"
    }
   ],
   "source": [
    "del train\n",
    "del test\n",
    "del data\n",
    "del data_features\n",
    "gc.collect()"
   ]
  },
  {
   "cell_type": "markdown",
   "metadata": {},
   "source": [
    "### LDA"
   ]
  },
  {
   "cell_type": "code",
   "execution_count": 12,
   "metadata": {},
   "outputs": [],
   "source": [
    "full_sparse_data =  sparse.vstack([X_train_content, X_test_content])"
   ]
  },
  {
   "cell_type": "code",
   "execution_count": 13,
   "metadata": {},
   "outputs": [],
   "source": [
    "warnings.filterwarnings('ignore')\n",
    "## prepare full data content\n",
    "corpus_data_gensim = gensim.matutils.Sparse2Corpus(full_sparse_data, documents_columns=False)\n",
    "vocabulary_gensim = {}\n",
    "for key, val in vectorizer.vocabulary_.items():\n",
    "    vocabulary_gensim[val] = key\n",
    "    \n",
    "dict = Dictionary()\n",
    "dict.merge_with(vocabulary_gensim)\n",
    "\n",
    "lda = LdaModel(corpus_data_gensim, num_topics = 30 )"
   ]
  },
  {
   "cell_type": "code",
   "execution_count": 14,
   "metadata": {},
   "outputs": [],
   "source": [
    "def document_to_lda_features(lda_model, document):\n",
    "    topic_importances = lda.get_document_topics(document, minimum_probability=0)\n",
    "    topic_importances = np.array(topic_importances)\n",
    "    return topic_importances[:,1]\n",
    "\n",
    "lda_features = list(map(lambda doc:document_to_lda_features(lda, doc),corpus_data_gensim))"
   ]
  },
  {
   "cell_type": "code",
   "execution_count": 15,
   "metadata": {},
   "outputs": [
    {
     "data": {
      "text/html": [
       "<div>\n",
       "<table border=\"1\" class=\"dataframe\">\n",
       "  <thead>\n",
       "    <tr style=\"text-align: right;\">\n",
       "      <th></th>\n",
       "      <th>0</th>\n",
       "      <th>1</th>\n",
       "      <th>2</th>\n",
       "      <th>3</th>\n",
       "      <th>4</th>\n",
       "      <th>5</th>\n",
       "      <th>6</th>\n",
       "      <th>7</th>\n",
       "      <th>8</th>\n",
       "      <th>9</th>\n",
       "      <th>...</th>\n",
       "      <th>20</th>\n",
       "      <th>21</th>\n",
       "      <th>22</th>\n",
       "      <th>23</th>\n",
       "      <th>24</th>\n",
       "      <th>25</th>\n",
       "      <th>26</th>\n",
       "      <th>27</th>\n",
       "      <th>28</th>\n",
       "      <th>29</th>\n",
       "    </tr>\n",
       "  </thead>\n",
       "  <tbody>\n",
       "    <tr>\n",
       "      <th>0</th>\n",
       "      <td>0.004189</td>\n",
       "      <td>0.004189</td>\n",
       "      <td>0.004189</td>\n",
       "      <td>0.004189</td>\n",
       "      <td>0.004189</td>\n",
       "      <td>0.878518</td>\n",
       "      <td>0.004189</td>\n",
       "      <td>0.004189</td>\n",
       "      <td>0.004189</td>\n",
       "      <td>0.004189</td>\n",
       "      <td>...</td>\n",
       "      <td>0.004189</td>\n",
       "      <td>0.004189</td>\n",
       "      <td>0.004189</td>\n",
       "      <td>0.004189</td>\n",
       "      <td>0.004189</td>\n",
       "      <td>0.004189</td>\n",
       "      <td>0.004189</td>\n",
       "      <td>0.004189</td>\n",
       "      <td>0.004189</td>\n",
       "      <td>0.004189</td>\n",
       "    </tr>\n",
       "    <tr>\n",
       "      <th>1</th>\n",
       "      <td>0.004785</td>\n",
       "      <td>0.004785</td>\n",
       "      <td>0.004785</td>\n",
       "      <td>0.004785</td>\n",
       "      <td>0.004785</td>\n",
       "      <td>0.004785</td>\n",
       "      <td>0.004785</td>\n",
       "      <td>0.004785</td>\n",
       "      <td>0.004785</td>\n",
       "      <td>0.004785</td>\n",
       "      <td>...</td>\n",
       "      <td>0.004785</td>\n",
       "      <td>0.004785</td>\n",
       "      <td>0.004785</td>\n",
       "      <td>0.004785</td>\n",
       "      <td>0.004785</td>\n",
       "      <td>0.004785</td>\n",
       "      <td>0.004785</td>\n",
       "      <td>0.004785</td>\n",
       "      <td>0.004785</td>\n",
       "      <td>0.004785</td>\n",
       "    </tr>\n",
       "    <tr>\n",
       "      <th>2</th>\n",
       "      <td>0.008078</td>\n",
       "      <td>0.274950</td>\n",
       "      <td>0.008078</td>\n",
       "      <td>0.008078</td>\n",
       "      <td>0.008078</td>\n",
       "      <td>0.008078</td>\n",
       "      <td>0.008078</td>\n",
       "      <td>0.008078</td>\n",
       "      <td>0.008078</td>\n",
       "      <td>0.008078</td>\n",
       "      <td>...</td>\n",
       "      <td>0.008078</td>\n",
       "      <td>0.008078</td>\n",
       "      <td>0.008078</td>\n",
       "      <td>0.325043</td>\n",
       "      <td>0.008078</td>\n",
       "      <td>0.008078</td>\n",
       "      <td>0.008078</td>\n",
       "      <td>0.181897</td>\n",
       "      <td>0.008078</td>\n",
       "      <td>0.008078</td>\n",
       "    </tr>\n",
       "    <tr>\n",
       "      <th>3</th>\n",
       "      <td>0.002763</td>\n",
       "      <td>0.002763</td>\n",
       "      <td>0.002763</td>\n",
       "      <td>0.701904</td>\n",
       "      <td>0.002763</td>\n",
       "      <td>0.002763</td>\n",
       "      <td>0.002763</td>\n",
       "      <td>0.002763</td>\n",
       "      <td>0.002763</td>\n",
       "      <td>0.002763</td>\n",
       "      <td>...</td>\n",
       "      <td>0.002763</td>\n",
       "      <td>0.002763</td>\n",
       "      <td>0.002763</td>\n",
       "      <td>0.002763</td>\n",
       "      <td>0.002763</td>\n",
       "      <td>0.002763</td>\n",
       "      <td>0.220727</td>\n",
       "      <td>0.002763</td>\n",
       "      <td>0.002763</td>\n",
       "      <td>0.002763</td>\n",
       "    </tr>\n",
       "    <tr>\n",
       "      <th>4</th>\n",
       "      <td>0.003179</td>\n",
       "      <td>0.003179</td>\n",
       "      <td>0.003179</td>\n",
       "      <td>0.003179</td>\n",
       "      <td>0.003179</td>\n",
       "      <td>0.003179</td>\n",
       "      <td>0.003179</td>\n",
       "      <td>0.003179</td>\n",
       "      <td>0.003179</td>\n",
       "      <td>0.003179</td>\n",
       "      <td>...</td>\n",
       "      <td>0.003179</td>\n",
       "      <td>0.003179</td>\n",
       "      <td>0.003179</td>\n",
       "      <td>0.003179</td>\n",
       "      <td>0.003179</td>\n",
       "      <td>0.003179</td>\n",
       "      <td>0.003179</td>\n",
       "      <td>0.003179</td>\n",
       "      <td>0.003179</td>\n",
       "      <td>0.003179</td>\n",
       "    </tr>\n",
       "  </tbody>\n",
       "</table>\n",
       "<p>5 rows × 30 columns</p>\n",
       "</div>"
      ],
      "text/plain": [
       "         0         1         2         3         4         5         6   \\\n",
       "0  0.004189  0.004189  0.004189  0.004189  0.004189  0.878518  0.004189   \n",
       "1  0.004785  0.004785  0.004785  0.004785  0.004785  0.004785  0.004785   \n",
       "2  0.008078  0.274950  0.008078  0.008078  0.008078  0.008078  0.008078   \n",
       "3  0.002763  0.002763  0.002763  0.701904  0.002763  0.002763  0.002763   \n",
       "4  0.003179  0.003179  0.003179  0.003179  0.003179  0.003179  0.003179   \n",
       "\n",
       "         7         8         9     ...           20        21        22  \\\n",
       "0  0.004189  0.004189  0.004189    ...     0.004189  0.004189  0.004189   \n",
       "1  0.004785  0.004785  0.004785    ...     0.004785  0.004785  0.004785   \n",
       "2  0.008078  0.008078  0.008078    ...     0.008078  0.008078  0.008078   \n",
       "3  0.002763  0.002763  0.002763    ...     0.002763  0.002763  0.002763   \n",
       "4  0.003179  0.003179  0.003179    ...     0.003179  0.003179  0.003179   \n",
       "\n",
       "         23        24        25        26        27        28        29  \n",
       "0  0.004189  0.004189  0.004189  0.004189  0.004189  0.004189  0.004189  \n",
       "1  0.004785  0.004785  0.004785  0.004785  0.004785  0.004785  0.004785  \n",
       "2  0.325043  0.008078  0.008078  0.008078  0.181897  0.008078  0.008078  \n",
       "3  0.002763  0.002763  0.002763  0.220727  0.002763  0.002763  0.002763  \n",
       "4  0.003179  0.003179  0.003179  0.003179  0.003179  0.003179  0.003179  \n",
       "\n",
       "[5 rows x 30 columns]"
      ]
     },
     "execution_count": 15,
     "metadata": {},
     "output_type": "execute_result"
    }
   ],
   "source": [
    "data_pd_lda_features = pd.DataFrame(lda_features)\n",
    "data_pd_lda_features.head()"
   ]
  },
  {
   "cell_type": "code",
   "execution_count": 16,
   "metadata": {},
   "outputs": [],
   "source": [
    "data_pd_lda_features_train = data_pd_lda_features.iloc[:train_size]\n",
    "data_pd_lda_features_test = data_pd_lda_features.iloc[train_size:]"
   ]
  },
  {
   "cell_type": "code",
   "execution_count": 59,
   "metadata": {},
   "outputs": [
    {
     "name": "stdout",
     "output_type": "stream",
     "text": [
      "(62313, 976)\n",
      "(34645, 976)\n",
      "Wall time: 3.38 s\n"
     ]
    }
   ],
   "source": [
    "%%time\n",
    "X_train_sparse = hstack([X_train_content, X_train_feats.values, data_pd_lda_features_train,\n",
    "                         data_pd_lda_features_train]).tocsr()\n",
    "X_test_sparse = hstack([X_test_content, X_test_feats.values, data_pd_lda_features_test,\n",
    "                         data_pd_lda_features_test]).tocsr()\n",
    "\n",
    "print(X_train_sparse.shape)\n",
    "print(X_test_sparse.shape)"
   ]
  },
  {
   "cell_type": "markdown",
   "metadata": {},
   "source": [
    "**Read train target and split data for validation.**"
   ]
  },
  {
   "cell_type": "code",
   "execution_count": 60,
   "metadata": {},
   "outputs": [],
   "source": [
    "train_target = pd.read_csv(os.path.join(PATH_TO_DATA, 'train_log1p_recommends.csv'), \n",
    "                           index_col='id')\n",
    "y_train = train_target['log_recommends'].values"
   ]
  },
  {
   "cell_type": "code",
   "execution_count": 61,
   "metadata": {},
   "outputs": [],
   "source": [
    "train_part_size = int(0.7 * train_target.shape[0])\n",
    "X_train_part_sparse = X_train_sparse[:train_part_size, :]\n",
    "y_train_part = y_train[:train_part_size]\n",
    "X_valid_sparse =  X_train_sparse[train_part_size:, :]\n",
    "y_valid = y_train[train_part_size:]"
   ]
  },
  {
   "cell_type": "markdown",
   "metadata": {},
   "source": [
    "**Train a simple Ridge model and check MAE on the validation set.**"
   ]
  },
  {
   "cell_type": "code",
   "execution_count": 62,
   "metadata": {},
   "outputs": [
    {
     "name": "stdout",
     "output_type": "stream",
     "text": [
      "Wall time: 8.62 s\n"
     ]
    }
   ],
   "source": [
    "%%time\n",
    "linear_regressor_ridge = Ridge()\n",
    "linear_regressor_ridge.fit(X_train_part_sparse, y_train_part)"
   ]
  },
  {
   "cell_type": "code",
   "execution_count": 63,
   "metadata": {},
   "outputs": [
    {
     "name": "stdout",
     "output_type": "stream",
     "text": [
      "Linear regression MAE: 1.2979073563360202\n"
     ]
    }
   ],
   "source": [
    "ridge_preds = linear_regressor_ridge.predict(X_valid_sparse)\n",
    "print('Linear regression MAE: {}'.format(MAE(ridge_preds, y_valid)))"
   ]
  },
  {
   "cell_type": "markdown",
   "metadata": {},
   "source": [
    "### training & blending lgb"
   ]
  },
  {
   "cell_type": "code",
   "execution_count": 64,
   "metadata": {},
   "outputs": [],
   "source": [
    "import lightgbm as lgb"
   ]
  },
  {
   "cell_type": "code",
   "execution_count": 65,
   "metadata": {},
   "outputs": [
    {
     "name": "stdout",
     "output_type": "stream",
     "text": [
      "[1]\tvalid_0's l1: 0.38204\n",
      "Training until validation scores don't improve for 20 rounds.\n",
      "[2]\tvalid_0's l1: 0.376929\n",
      "[3]\tvalid_0's l1: 0.373066\n",
      "[4]\tvalid_0's l1: 0.369308\n",
      "[5]\tvalid_0's l1: 0.366432\n",
      "[6]\tvalid_0's l1: 0.363983\n",
      "[7]\tvalid_0's l1: 0.36187\n",
      "[8]\tvalid_0's l1: 0.359969\n",
      "[9]\tvalid_0's l1: 0.358353\n",
      "[10]\tvalid_0's l1: 0.356928\n",
      "[11]\tvalid_0's l1: 0.35522\n",
      "[12]\tvalid_0's l1: 0.354011\n",
      "[13]\tvalid_0's l1: 0.352725\n",
      "[14]\tvalid_0's l1: 0.351806\n",
      "[15]\tvalid_0's l1: 0.350663\n",
      "[16]\tvalid_0's l1: 0.34984\n",
      "[17]\tvalid_0's l1: 0.348962\n",
      "[18]\tvalid_0's l1: 0.348426\n",
      "[19]\tvalid_0's l1: 0.347543\n",
      "[20]\tvalid_0's l1: 0.346997\n",
      "[21]\tvalid_0's l1: 0.346466\n",
      "[22]\tvalid_0's l1: 0.345993\n",
      "[23]\tvalid_0's l1: 0.345619\n",
      "[24]\tvalid_0's l1: 0.345064\n",
      "[25]\tvalid_0's l1: 0.344689\n",
      "[26]\tvalid_0's l1: 0.34421\n",
      "[27]\tvalid_0's l1: 0.343703\n",
      "[28]\tvalid_0's l1: 0.343167\n",
      "[29]\tvalid_0's l1: 0.342763\n",
      "[30]\tvalid_0's l1: 0.342302\n",
      "[31]\tvalid_0's l1: 0.341871\n",
      "[32]\tvalid_0's l1: 0.34147\n",
      "[33]\tvalid_0's l1: 0.340971\n",
      "[34]\tvalid_0's l1: 0.340506\n",
      "[35]\tvalid_0's l1: 0.340322\n",
      "[36]\tvalid_0's l1: 0.339909\n",
      "[37]\tvalid_0's l1: 0.339664\n",
      "[38]\tvalid_0's l1: 0.339339\n",
      "[39]\tvalid_0's l1: 0.338857\n",
      "[40]\tvalid_0's l1: 0.338635\n",
      "[41]\tvalid_0's l1: 0.338423\n",
      "[42]\tvalid_0's l1: 0.338169\n",
      "[43]\tvalid_0's l1: 0.337898\n",
      "[44]\tvalid_0's l1: 0.337674\n",
      "[45]\tvalid_0's l1: 0.337404\n",
      "[46]\tvalid_0's l1: 0.337262\n",
      "[47]\tvalid_0's l1: 0.337163\n",
      "[48]\tvalid_0's l1: 0.336987\n",
      "[49]\tvalid_0's l1: 0.336761\n",
      "[50]\tvalid_0's l1: 0.336629\n",
      "[51]\tvalid_0's l1: 0.336419\n",
      "[52]\tvalid_0's l1: 0.336275\n",
      "[53]\tvalid_0's l1: 0.336121\n",
      "[54]\tvalid_0's l1: 0.335885\n",
      "[55]\tvalid_0's l1: 0.335795\n",
      "[56]\tvalid_0's l1: 0.335664\n",
      "[57]\tvalid_0's l1: 0.335429\n",
      "[58]\tvalid_0's l1: 0.335277\n",
      "[59]\tvalid_0's l1: 0.335175\n",
      "[60]\tvalid_0's l1: 0.334996\n",
      "[61]\tvalid_0's l1: 0.33484\n",
      "[62]\tvalid_0's l1: 0.334705\n",
      "[63]\tvalid_0's l1: 0.334575\n",
      "[64]\tvalid_0's l1: 0.334503\n",
      "[65]\tvalid_0's l1: 0.334388\n",
      "[66]\tvalid_0's l1: 0.334291\n",
      "[67]\tvalid_0's l1: 0.334236\n",
      "[68]\tvalid_0's l1: 0.334129\n",
      "[69]\tvalid_0's l1: 0.334046\n",
      "[70]\tvalid_0's l1: 0.33392\n",
      "[71]\tvalid_0's l1: 0.333769\n",
      "[72]\tvalid_0's l1: 0.333609\n",
      "[73]\tvalid_0's l1: 0.333467\n",
      "[74]\tvalid_0's l1: 0.333359\n",
      "[75]\tvalid_0's l1: 0.333307\n",
      "[76]\tvalid_0's l1: 0.333286\n",
      "[77]\tvalid_0's l1: 0.333293\n",
      "[78]\tvalid_0's l1: 0.33317\n",
      "[79]\tvalid_0's l1: 0.333087\n",
      "[80]\tvalid_0's l1: 0.333009\n",
      "[81]\tvalid_0's l1: 0.332877\n",
      "[82]\tvalid_0's l1: 0.332836\n",
      "[83]\tvalid_0's l1: 0.332772\n",
      "[84]\tvalid_0's l1: 0.332758\n",
      "[85]\tvalid_0's l1: 0.332653\n",
      "[86]\tvalid_0's l1: 0.332648\n",
      "[87]\tvalid_0's l1: 0.33255\n",
      "[88]\tvalid_0's l1: 0.332484\n",
      "[89]\tvalid_0's l1: 0.332376\n",
      "[90]\tvalid_0's l1: 0.332297\n",
      "[91]\tvalid_0's l1: 0.332262\n",
      "[92]\tvalid_0's l1: 0.332265\n",
      "[93]\tvalid_0's l1: 0.33222\n",
      "[94]\tvalid_0's l1: 0.332205\n",
      "[95]\tvalid_0's l1: 0.332122\n",
      "[96]\tvalid_0's l1: 0.332018\n",
      "[97]\tvalid_0's l1: 0.331906\n",
      "[98]\tvalid_0's l1: 0.331869\n",
      "[99]\tvalid_0's l1: 0.331815\n",
      "[100]\tvalid_0's l1: 0.331815\n",
      "[101]\tvalid_0's l1: 0.331789\n",
      "[102]\tvalid_0's l1: 0.331731\n",
      "[103]\tvalid_0's l1: 0.331747\n",
      "[104]\tvalid_0's l1: 0.3317\n",
      "[105]\tvalid_0's l1: 0.331661\n",
      "[106]\tvalid_0's l1: 0.331613\n",
      "[107]\tvalid_0's l1: 0.331482\n",
      "[108]\tvalid_0's l1: 0.331424\n",
      "[109]\tvalid_0's l1: 0.331327\n",
      "[110]\tvalid_0's l1: 0.331263\n",
      "[111]\tvalid_0's l1: 0.331246\n",
      "[112]\tvalid_0's l1: 0.33126\n",
      "[113]\tvalid_0's l1: 0.331229\n",
      "[114]\tvalid_0's l1: 0.331209\n",
      "[115]\tvalid_0's l1: 0.331173\n",
      "[116]\tvalid_0's l1: 0.331106\n",
      "[117]\tvalid_0's l1: 0.331038\n",
      "[118]\tvalid_0's l1: 0.331019\n",
      "[119]\tvalid_0's l1: 0.330967\n",
      "[120]\tvalid_0's l1: 0.33092\n",
      "Did not meet early stopping. Best iteration is:\n",
      "[120]\tvalid_0's l1: 0.33092\n",
      "Wall time: 54.7 s\n"
     ]
    }
   ],
   "source": [
    "%%time\n",
    "lgb_train = lgb.Dataset(X_train_part_sparse.astype(np.float32), \n",
    "                        label=np.log1p(y_train_part))\n",
    "lgb_x_valid = lgb.Dataset(X_valid_sparse.astype(np.float32), \n",
    "                      label=np.log1p(y_valid))\n",
    "param = {'num_leaves': 31, 'num_iterators': 100, 'objective': 'mean_absolute_error',\n",
    "        'metric': 'mae'}\n",
    "num_round = 120\n",
    "bst_lgb = lgb.train(param, lgb_train, num_round, valid_sets=[lgb_x_valid], early_stopping_rounds=20)"
   ]
  },
  {
   "cell_type": "code",
   "execution_count": 66,
   "metadata": {},
   "outputs": [],
   "source": [
    "lgb_pred = np.expm1(bst_lgb.predict(X_valid_sparse.astype(np.float32), \n",
    "                                    num_iteration=bst_lgb.best_iteration))"
   ]
  },
  {
   "cell_type": "code",
   "execution_count": 67,
   "metadata": {},
   "outputs": [
    {
     "name": "stdout",
     "output_type": "stream",
     "text": [
      "LGB answers MAE: 1.230881815816043\n"
     ]
    }
   ],
   "source": [
    "print('LGB answers MAE: {}'.format(MAE(lgb_pred, y_valid)))"
   ]
  },
  {
   "cell_type": "code",
   "execution_count": 68,
   "metadata": {},
   "outputs": [],
   "source": [
    "import matplotlib.pyplot as plt"
   ]
  },
  {
   "cell_type": "code",
   "execution_count": 69,
   "metadata": {},
   "outputs": [
    {
     "data": {
      "image/png": "[encoded data removed]",
      "text/plain": [
       "<matplotlib.figure.Figure at 0x201263285f8>"
      ]
     },
     "metadata": {},
     "output_type": "display_data"
    }
   ],
   "source": [
    "figure = plt.figure(figsize=(12,10))\n",
    "plt.hist(y_valid, bins=30, alpha=.5, color='red', label='true', range=(0,10));\n",
    "plt.hist(ridge_preds, bins=30, alpha=.5, color='green', label='Ridge', range=(0,10));\n",
    "plt.hist(lgb_pred, bins=30, alpha=.5, color='blue', label='Lgbm', range=(0,10));\n",
    "plt.legend();"
   ]
  },
  {
   "cell_type": "code",
   "execution_count": 71,
   "metadata": {},
   "outputs": [
    {
     "name": "stdout",
     "output_type": "stream",
     "text": [
      "0.25 0.75\n"
     ]
    },
    {
     "data": {
      "image/png": "[encoded data removed]",
      "text/plain": [
       "<matplotlib.figure.Figure at 0x20000876e80>"
      ]
     },
     "metadata": {},
     "output_type": "display_data"
    }
   ],
   "source": [
    "def blending(ans1, ans2, valid, step=0.05):\n",
    "    errors = []\n",
    "    for i in np.arange(0, 1, step):\n",
    "        errors.append(MAE(i*ans1 + (1-i)*ans2, valid))\n",
    "    plt.plot(errors)\n",
    "    return (np.argmin(errors)*step, (1 - np.argmin(errors)*step))\n",
    "    \n",
    "    \n",
    "coef1, coef2 = blending(np.array(ridge_preds), lgb_pred, y_valid)\n",
    "print(coef1, coef2)"
   ]
  },
  {
   "cell_type": "code",
   "execution_count": 72,
   "metadata": {},
   "outputs": [
    {
     "name": "stdout",
     "output_type": "stream",
     "text": [
      "blending answers MAE: 1.222560758660127\n"
     ]
    }
   ],
   "source": [
    "blending_ans = ridge_preds * coef1 + lgb_pred * coef2\n",
    "print('blending answers MAE: {}'.format(MAE(blending_ans, y_valid)))"
   ]
  },
  {
   "cell_type": "code",
   "execution_count": 73,
   "metadata": {},
   "outputs": [
    {
     "data": {
      "image/png": "[encoded data removed]",
      "text/plain": [
       "<matplotlib.figure.Figure at 0x20088f2f390>"
      ]
     },
     "metadata": {},
     "output_type": "display_data"
    }
   ],
   "source": [
    "figure = plt.figure(figsize=(12,10))\n",
    "plt.hist(y_valid, bins=30, alpha=.5, color='red', label='true', range=(0,10));\n",
    "plt.hist(blending_ans, bins=30, alpha=.5, color='purple', label='Blending', range=(0,10));\n",
    "plt.legend();"
   ]
  },
  {
   "cell_type": "markdown",
   "metadata": {},
   "source": [
    "### training & trying to blend  XGB"
   ]
  },
  {
   "cell_type": "code",
   "execution_count": 39,
   "metadata": {},
   "outputs": [
    {
     "data": {
      "text/plain": [
       "'0.80'"
      ]
     },
     "execution_count": 39,
     "metadata": {},
     "output_type": "execute_result"
    }
   ],
   "source": [
    "import xgboost\n",
    "xgboost.__version__"
   ]
  },
  {
   "cell_type": "code",
   "execution_count": 40,
   "metadata": {},
   "outputs": [
    {
     "name": "stdout",
     "output_type": "stream",
     "text": [
      "Wall time: 56.5 s\n"
     ]
    }
   ],
   "source": [
    "%%time\n",
    "xgb = xgboost.XGBRegressor(n_estimators=100, n_jobs=-1, objective='reg:linear')\n",
    "xgb.fit(X_train_part_sparse, np.log1p(y_train_part), )\n",
    "#         eval_set=(X_valid_sparse.getnnz(), np.log1p(y_valid)), eval_metric='mae')\n",
    "xgb_answers = np.expm1(xgb.predict(X_valid_sparse.astype(np.float32)))"
   ]
  },
  {
   "cell_type": "code",
   "execution_count": 41,
   "metadata": {},
   "outputs": [
    {
     "name": "stdout",
     "output_type": "stream",
     "text": [
      "XGB MAE: 1.2761902311626185\n"
     ]
    }
   ],
   "source": [
    "print('XGB MAE: {}'.format(MAE(xgb_answers, y_valid)))"
   ]
  },
  {
   "cell_type": "code",
   "execution_count": 42,
   "metadata": {},
   "outputs": [
    {
     "data": {
      "image/png": "[encoded data removed]",
      "text/plain": [
       "<matplotlib.figure.Figure at 0x20126031c88>"
      ]
     },
     "metadata": {},
     "output_type": "display_data"
    }
   ],
   "source": [
    "figure = plt.figure(figsize=(12,10))\n",
    "plt.hist(y_valid, bins=30, alpha=.5, color='red', label='true', range=(0,10));\n",
    "plt.hist(xgb_answers, bins=30, alpha=.5, color='blue', label='XGBoost predictions', range=(0,10));\n",
    "plt.hist(blending_ans, bins=30, alpha=.5, color='purple', label='Blending', range=(0,10));\n",
    "plt.legend();"
   ]
  },
  {
   "cell_type": "code",
   "execution_count": 43,
   "metadata": {},
   "outputs": [
    {
     "name": "stdout",
     "output_type": "stream",
     "text": [
      "0.99 0.010000000000000009\n"
     ]
    },
    {
     "data": {
      "image/png": "[encoded data removed]",
      "text/plain": [
       "<matplotlib.figure.Figure at 0x20124a22ba8>"
      ]
     },
     "metadata": {},
     "output_type": "display_data"
    }
   ],
   "source": [
    "coef1_xgb, coef2_xgb = blending(blending_ans, xgb_answers, y_valid, step=0.01)\n",
    "print(coef1_xgb, coef2_xgb)"
   ]
  },
  {
   "cell_type": "markdown",
   "metadata": {},
   "source": [
    "Blending with xgboost doesn't give any advantages"
   ]
  },
  {
   "cell_type": "code",
   "execution_count": 74,
   "metadata": {},
   "outputs": [],
   "source": [
    "def dirty_kaggle_trick(preds):\n",
    "    return (preds)/np.mean(preds) * 4.33"
   ]
  },
  {
   "cell_type": "code",
   "execution_count": null,
   "metadata": {},
   "outputs": [],
   "source": []
  },
  {
   "cell_type": "markdown",
   "metadata": {},
   "source": [
    "# Final submission"
   ]
  },
  {
   "cell_type": "code",
   "execution_count": 75,
   "metadata": {},
   "outputs": [],
   "source": [
    "def prepare_final_data(dirty=False):\n",
    "    linear_regressor_ridge.fit(X_train_sparse, y_train)\n",
    "    ridge_preds = linear_regressor_ridge.predict(X_test_sparse)\n",
    "    \n",
    "    print('ridge finished')\n",
    "    \n",
    "    lgb_train = lgb.Dataset(X_train_sparse.astype(np.float32), \n",
    "                        label=np.log1p(y_train))\n",
    "    param = {'num_leaves': 31, 'num_iterators': 100, 'objective': 'mean_absolute_error',\n",
    "            'metric': 'mae'}\n",
    "    num_round = 100\n",
    "    bst_lgb = lgb.train(param, lgb_train, num_round)\n",
    "    lgb_pred = np.expm1(bst_lgb.predict(X_test_sparse.astype(np.float32)))\n",
    "    \n",
    "    print('lgb finished')\n",
    "    \n",
    "    blending_ans = ridge_preds * coef1 + lgb_pred * coef2\n",
    "    \n",
    "    final = dirty_kaggle_trick(blending_ans)\n",
    "    \n",
    "    return final\n",
    "    \n",
    "\n",
    "    "
   ]
  },
  {
   "cell_type": "code",
   "execution_count": 76,
   "metadata": {},
   "outputs": [
    {
     "name": "stdout",
     "output_type": "stream",
     "text": [
      "ridge finished\n",
      "lgb finished\n",
      "Wall time: 1min 2s\n"
     ]
    }
   ],
   "source": [
    "%%time\n",
    "ans = prepare_final_data()"
   ]
  },
  {
   "cell_type": "code",
   "execution_count": 49,
   "metadata": {},
   "outputs": [],
   "source": [
    "def write_submission_file(prediction, filename,\n",
    "                          path_to_sample=os.path.join(PATH_TO_DATA, \n",
    "                                                      'sample_submission.csv')):\n",
    "    submission = pd.read_csv(path_to_sample, index_col='id')\n",
    "    \n",
    "    print(submission.shape)\n",
    "    submission['log_recommends'] = prediction\n",
    "    submission.to_csv(filename)"
   ]
  },
  {
   "cell_type": "code",
   "execution_count": 77,
   "metadata": {},
   "outputs": [
    {
     "name": "stdout",
     "output_type": "stream",
     "text": [
      "(34645, 1)\n"
     ]
    }
   ],
   "source": [
    "write_submission_file(ans, os.path.join(PATH_TO_DATA,\n",
    "                                                    'blending_with_hack.csv'))"
   ]
  }
 ],
 "metadata": {
  "kernelspec": {
   "display_name": "Python 3",
   "language": "python",
   "name": "python3"
  },
  "language_info": {
   "codemirror_mode": {
    "name": "ipython",
    "version": 3
   },
   "file_extension": ".py",
   "mimetype": "text/x-python",
   "name": "python",
   "nbconvert_exporter": "python",
   "pygments_lexer": "ipython3",
   "version": "3.6.6"
  }
 },
 "nbformat": 4,
 "nbformat_minor": 2
}
